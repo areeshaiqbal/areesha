{
  "cells": [
    {
      "cell_type": "code",
      "execution_count": null,
      "metadata": {
        "id": "3thDPVpvUrt-"
      },
      "outputs": [],
      "source": [
        "import warnings\n",
        "warnings.simplefilter(\"ignore\")"
      ]
    },
    {
      "cell_type": "code",
      "execution_count": null,
      "metadata": {
        "id": "ICP91XQIUruB"
      },
      "outputs": [],
      "source": [
        "import pandas as pd\n",
        "\n",
        "import matplotlib.pyplot as plt\n",
        "import seaborn as sns; sns.set()\n",
        "from scipy import stats\n",
        "import numpy as np"
      ]
    },
    {
      "cell_type": "code",
      "execution_count": null,
      "metadata": {
        "id": "XZrNwX3HUruC"
      },
      "outputs": [],
      "source": [
        "from sklearn.preprocessing import StandardScaler\n",
        "from sklearn.model_selection import train_test_split\n",
        "from sklearn.model_selection import cross_val_score\n",
        "\n",
        "from sklearn.metrics import accuracy_score, confusion_matrix, classification_report\n",
        "from sklearn.metrics import roc_curve, auc\n",
        "from sklearn import metrics"
      ]
    },
    {
      "cell_type": "code",
      "execution_count": null,
      "metadata": {
        "id": "7rZiBaOMUruD"
      },
      "outputs": [],
      "source": [
        "from sklearn.linear_model import LogisticRegression\n",
        "from sklearn.tree import DecisionTreeClassifier\n",
        "from sklearn.neighbors import KNeighborsClassifier\n",
        "from sklearn.ensemble import ExtraTreesClassifier"
      ]
    },
    {
      "cell_type": "markdown",
      "source": [
        "**Read data**"
      ],
      "metadata": {
        "id": "wLQtu8cQVSkK"
      }
    },
    {
      "cell_type": "code",
      "execution_count": null,
      "metadata": {
        "id": "-s2gnodSUruF"
      },
      "outputs": [],
      "source": [
        "data = pd.read_csv(\"young_age.csv\", sep=\",\")\n",
        "data.head(10)"
      ]
    },
    {
      "cell_type": "markdown",
      "metadata": {
        "id": "bjg5IYQ0UruH"
      },
      "source": [
        "**Analize attributes of dataset**"
      ]
    },
    {
      "cell_type": "code",
      "execution_count": null,
      "metadata": {
        "id": "vwBzDUZnUruI"
      },
      "outputs": [],
      "source": [
        "plt.figure(figsize=(14, 14))\n",
        "sns.heatmap(data.corr(),annot=True,fmt='.1f')\n",
        "plt.show()"
      ]
    },
    {
      "cell_type": "code",
      "execution_count": null,
      "metadata": {
        "id": "FacOuDQsUruK"
      },
      "outputs": [],
      "source": [
        "data.target.value_counts()"
      ]
    },
    {
      "cell_type": "code",
      "execution_count": null,
      "metadata": {
        "id": "0iupXr7ZUruK"
      },
      "outputs": [],
      "source": [
        "sns.countplot(x=\"target\", data=data)\n",
        "plt.show()"
      ]
    },
    {
      "cell_type": "markdown",
      "metadata": {
        "id": "vljMhmAeUruL"
      },
      "source": [
        "__--__ Find _missing value_"
      ]
    },
    {
      "cell_type": "code",
      "execution_count": null,
      "metadata": {
        "id": "C8dcf5alUruM"
      },
      "outputs": [],
      "source": [
        "data.info()"
      ]
    },
    {
      "cell_type": "code",
      "execution_count": null,
      "metadata": {
        "id": "-E8hSbIqUruN"
      },
      "outputs": [],
      "source": [
        "data.describe()"
      ]
    },
    {
      "cell_type": "markdown",
      "metadata": {
        "id": "w4xgesPDUruP"
      },
      "source": [
        "### 2. Statistics"
      ]
    },
    {
      "cell_type": "code",
      "execution_count": null,
      "metadata": {
        "id": "g48mHwdUUruP",
        "outputId": "eab5e9b6-b713-4776-dbbb-b24c8787a888"
      },
      "outputs": [
        {
          "data": {
            "image/png": "[encoded data removed]",
            "text/plain": [
              "<Figure size 432x288 with 1 Axes>"
            ]
          },
          "metadata": {
            "needs_background": "light"
          },
          "output_type": "display_data"
        }
      ],
      "source": [
        "sns.distplot(data['age'],rug=True)\n",
        "plt.show()"
      ]
    },
    {
      "cell_type": "markdown",
      "metadata": {
        "id": "v9C9DhYRUruQ"
      },
      "source": [
        "__Sex distribution in data__"
      ]
    },
    {
      "cell_type": "code",
      "execution_count": null,
      "metadata": {
        "id": "qnQtxkfyUruQ",
        "outputId": "32fc9823-4020-4431-e835-3ce9cc1fbf87"
      },
      "outputs": [
        {
          "data": {
            "image/png": "[encoded data removed]",
            "text/plain": [
              "<Figure size 432x288 with 1 Axes>"
            ]
          },
          "metadata": {
            "needs_background": "light"
          },
          "output_type": "display_data"
        }
      ],
      "source": [
        "sns.countplot(x='sex', data=data)\n",
        "plt.xlabel(\"Sex (0 = female, 1= male)\")\n",
        "plt.show()"
      ]
    },
    {
      "cell_type": "code",
      "execution_count": null,
      "metadata": {
        "id": "z2Bl-rIzUruQ",
        "outputId": "85bb069b-e073-4b8b-e65f-e5bf5d536ff4"
      },
      "outputs": [
        {
          "data": {
            "image/png": "[encoded data removed]",
            "text/plain": [
              "<Figure size 720x360 with 1 Axes>"
            ]
          },
          "metadata": {
            "needs_background": "light"
          },
          "output_type": "display_data"
        }
      ],
      "source": [
        "pd.crosstab(data.sex,data.target).plot(kind=\"bar\",figsize=(10,5))\n",
        "plt.xlabel('Sex (0 = Female, 1 = Male)')\n",
        "plt.xticks(rotation=0)\n",
        "plt.legend([\"Haven't Disease\", \"Have Disease\"])\n",
        "plt.ylabel('Frequency')\n",
        "plt.show()"
      ]
    },
    {
      "cell_type": "markdown",
      "metadata": {
        "id": "eW2IF7CHUruR"
      },
      "source": [
        "### 4. Data Proccess"
      ]
    },
    {
      "cell_type": "markdown",
      "metadata": {
        "id": "OKKVet3EUruS"
      },
      "source": [
        "__--__ Creating Dummy Variables"
      ]
    },
    {
      "cell_type": "code",
      "execution_count": null,
      "metadata": {
        "id": "Je0nLST6UruS"
      },
      "outputs": [],
      "source": [
        "data = pd.get_dummies(data, columns = ['sex', 'cp', 'fbs', 'restecg', 'exang', 'slope', 'ca', 'thal'])"
      ]
    },
    {
      "cell_type": "code",
      "execution_count": null,
      "metadata": {
        "id": "usUMSjQ4UruS",
        "outputId": "813d71e3-4f5d-4530-98b0-5e4e1e285dbd"
      },
      "outputs": [
        {
          "data": {
            "text/plain": [
              "(59, 28)"
            ]
          },
          "execution_count": 17,
          "metadata": {},
          "output_type": "execute_result"
        }
      ],
      "source": [
        "data.shape"
      ]
    },
    {
      "cell_type": "markdown",
      "metadata": {
        "id": "F3Pu9-g9UruT"
      },
      "source": [
        "__--__ Fit data to Standart Scaler"
      ]
    },
    {
      "cell_type": "code",
      "execution_count": null,
      "metadata": {
        "id": "t_6Lr0gqUruT"
      },
      "outputs": [],
      "source": [
        "standardScaler = StandardScaler()\n",
        "columns_to_scale = ['age', 'trestbps', 'chol', 'thalach', 'oldpeak']\n",
        "data[columns_to_scale] = standardScaler.fit_transform(data[columns_to_scale])"
      ]
    },
    {
      "cell_type": "code",
      "execution_count": null,
      "metadata": {
        "id": "eyYRQtSQUruU"
      },
      "outputs": [],
      "source": [
        "data.head(10)"
      ]
    },
    {
      "cell_type": "markdown",
      "metadata": {
        "id": "CIYsFHu0UruU"
      },
      "source": [
        "### 5. Train Model"
      ]
    },
    {
      "cell_type": "markdown",
      "metadata": {
        "id": "lfcJwtz1UruU"
      },
      "source": [
        "#### Prepare data to train"
      ]
    },
    {
      "cell_type": "code",
      "execution_count": null,
      "metadata": {
        "id": "gYDqfOyNUruU"
      },
      "outputs": [],
      "source": [
        "x = data.drop(['target'], axis=1)\n",
        "y = data['target']"
      ]
    },
    {
      "cell_type": "code",
      "execution_count": null,
      "metadata": {
        "id": "CXxwbnyvUruV"
      },
      "outputs": [],
      "source": [
        "x_train, x_test, y_train, y_test = train_test_split(x, y, test_size=0.2, random_state=42)"
      ]
    },
    {
      "cell_type": "markdown",
      "metadata": {
        "id": "531EyNNqUruV"
      },
      "source": [
        "#### Logistic regression"
      ]
    },
    {
      "cell_type": "code",
      "execution_count": null,
      "metadata": {
        "id": "CkbG-DwUUruV",
        "outputId": "62e3e9e9-0e53-4e03-bde1-ad8da23b002c"
      },
      "outputs": [
        {
          "data": {
            "text/plain": [
              "LogisticRegression(C=1.0, class_weight=None, dual=False, fit_intercept=True,\n",
              "                   intercept_scaling=1, l1_ratio=None, max_iter=100,\n",
              "                   multi_class='warn', n_jobs=None, penalty='l2',\n",
              "                   random_state=None, solver='warn', tol=0.0001, verbose=0,\n",
              "                   warm_start=False)"
            ]
          },
          "execution_count": 22,
          "metadata": {},
          "output_type": "execute_result"
        }
      ],
      "source": [
        "model_lr = LogisticRegression()\n",
        "model_lr.fit(x_train, y_train)"
      ]
    },
    {
      "cell_type": "code",
      "execution_count": null,
      "metadata": {
        "id": "QdgZoG91UruV",
        "outputId": "4dba1085-b026-4eb4-dd72-f744e59a58e5"
      },
      "outputs": [
        {
          "name": "stdout",
          "output_type": "stream",
          "text": [
            "Training accuracy: 0.9574468085106383\n",
            "Testing accuracy:  0.9166666666666666\n"
          ]
        }
      ],
      "source": [
        "print(\"Training accuracy: {}\".format(model_lr.score(x_train, y_train)))\n",
        "predicted_lr = model_lr.predict(x_test)\n",
        "print(\"Testing accuracy:  {}\".format(metrics.accuracy_score(y_test, predicted_lr)))"
      ]
    },
    {
      "cell_type": "code",
      "execution_count": null,
      "metadata": {
        "id": "f1D9ZJf2UruW",
        "outputId": "5e59ff77-4231-44db-efb6-c3c737140410"
      },
      "outputs": [
        {
          "data": {
            "text/plain": [
              "array([[0.10210387, 0.89789613],\n",
              "       [0.10125859, 0.89874141],\n",
              "       [0.01658004, 0.98341996],\n",
              "       [0.10497973, 0.89502027],\n",
              "       [0.01174876, 0.98825124],\n",
              "       [0.84583739, 0.15416261],\n",
              "       [0.74044948, 0.25955052],\n",
              "       [0.33834178, 0.66165822],\n",
              "       [0.83709316, 0.16290684],\n",
              "       [0.0040244 , 0.9959756 ],\n",
              "       [0.47652142, 0.52347858],\n",
              "       [0.19172983, 0.80827017]])"
            ]
          },
          "execution_count": 24,
          "metadata": {},
          "output_type": "execute_result"
        }
      ],
      "source": [
        "probabilities_lr = model_lr.predict_proba(x_test)\n",
        "probabilities_lr"
      ]
    },
    {
      "cell_type": "markdown",
      "metadata": {
        "id": "WrngnxmeUruW"
      },
      "source": [
        "#### Decision Tree Classifier"
      ]
    },
    {
      "cell_type": "markdown",
      "metadata": {
        "id": "PhL8oQAwUruW"
      },
      "source": [
        "This classifier creates a decision tree based on which, it assigns the class values to each data point.\n"
      ]
    },
    {
      "cell_type": "code",
      "execution_count": null,
      "metadata": {
        "id": "VbGPCsvOUruc"
      },
      "outputs": [],
      "source": [
        "dt_scores = []\n",
        "for i in range(1, len(x.columns)+1):\n",
        "    dt_classifier = DecisionTreeClassifier(max_features = i, random_state = 42)\n",
        "    dt_classifier.fit(x_train, y_train)\n",
        "    dt_scores.append([dt_classifier.score(x_test, y_test), i])"
      ]
    },
    {
      "cell_type": "code",
      "execution_count": null,
      "metadata": {
        "id": "RrmZIQ9FUruc",
        "outputId": "56f79088-5079-4d3c-f450-f31b41ab73d8"
      },
      "outputs": [
        {
          "data": {
            "text/plain": [
              "Text(0.5, 1.0, 'Decision Tree Classifier scores for different number of maximum features')"
            ]
          },
          "execution_count": 26,
          "metadata": {},
          "output_type": "execute_result"
        },
        {
          "data": {
            "image/png": "[encoded data removed]",
            "text/plain": [
              "<Figure size 432x288 with 1 Axes>"
            ]
          },
          "metadata": {
            "needs_background": "light"
          },
          "output_type": "display_data"
        }
      ],
      "source": [
        "x_ax = [i for i in range(1, len(x.columns) + 1)]\n",
        "y_ax = [i[0] for i in dt_scores]\n",
        "plt.plot(x_ax, y_ax)\n",
        "\n",
        "plt.xticks([i for i in range(1, len(x.columns) + 1)])\n",
        "plt.xlabel('Max features')\n",
        "plt.ylabel('Scores')\n",
        "\n",
        "plt.title('Decision Tree Classifier scores for different number of maximum features')"
      ]
    },
    {
      "cell_type": "code",
      "execution_count": null,
      "metadata": {
        "id": "4bAxQClBUrud",
        "outputId": "ac4f3f6f-c115-41d6-8d87-3d1ea6012dfd"
      },
      "outputs": [
        {
          "data": {
            "text/plain": [
              "DecisionTreeClassifier(class_weight=None, criterion='gini', max_depth=None,\n",
              "                       max_features=17, max_leaf_nodes=None,\n",
              "                       min_impurity_decrease=0.0, min_impurity_split=None,\n",
              "                       min_samples_leaf=1, min_samples_split=2,\n",
              "                       min_weight_fraction_leaf=0.0, presort=False,\n",
              "                       random_state=42, splitter='best')"
            ]
          },
          "execution_count": 27,
          "metadata": {},
          "output_type": "execute_result"
        }
      ],
      "source": [
        "dt = DecisionTreeClassifier(max_features = 17, random_state = 42)\n",
        "dt.fit(x_train, y_train)"
      ]
    },
    {
      "cell_type": "code",
      "execution_count": null,
      "metadata": {
        "id": "mnBtbuxDUrud",
        "outputId": "1650c350-ed1b-42ae-9785-23f7633f830b"
      },
      "outputs": [
        {
          "name": "stdout",
          "output_type": "stream",
          "text": [
            "Training accuracy: 1.0\n",
            "Testing accuracy:  0.8333333333333334\n"
          ]
        }
      ],
      "source": [
        "print(\"Training accuracy: {}\".format(dt.score(x_train, y_train)))\n",
        "predicted_dt = dt.predict(x_test)\n",
        "print(\"Testing accuracy:  {}\".format(metrics.accuracy_score(y_test, predicted_dt)))"
      ]
    },
    {
      "cell_type": "markdown",
      "metadata": {
        "id": "oabGsoIIUrud"
      },
      "source": [
        "Also, I can plot a line graph and see the effect of the number of features on the model score. "
      ]
    },
    {
      "cell_type": "markdown",
      "metadata": {
        "id": "_s1aADkAUrue"
      },
      "source": [
        "#### K Neighbors Classifier"
      ]
    },
    {
      "cell_type": "markdown",
      "metadata": {
        "id": "LpngQr1XUrue"
      },
      "source": [
        "This classifier looks for the classes of K nearest neighbors of a given data point and based on the majority class, it assigns a class to this data point."
      ]
    },
    {
      "cell_type": "code",
      "execution_count": null,
      "metadata": {
        "id": "-ASSAenpUrue"
      },
      "outputs": [],
      "source": [
        "knn_scores = []\n",
        "for k in range(1,21):\n",
        "    knn_classifier = KNeighborsClassifier(n_neighbors = k)\n",
        "    knn_classifier.fit(x_train, y_train)\n",
        "    knn_scores.append([knn_classifier.score(x_test, y_test), k])"
      ]
    },
    {
      "cell_type": "code",
      "execution_count": null,
      "metadata": {
        "id": "RBpjMYKlUrue",
        "outputId": "2fba603f-483e-4adc-d099-704f20b57b99"
      },
      "outputs": [
        {
          "data": {
            "text/plain": [
              "Text(0.5, 1.0, 'K Neighbors Classifier scores for different K values')"
            ]
          },
          "execution_count": 30,
          "metadata": {},
          "output_type": "execute_result"
        },
        {
          "data": {
            "image/png": "[encoded data removed]",
            "text/plain": [
              "<Figure size 432x288 with 1 Axes>"
            ]
          },
          "metadata": {
            "needs_background": "light"
          },
          "output_type": "display_data"
        }
      ],
      "source": [
        "x_axes = [k for k in range(1, 21)]\n",
        "y_axes = [i[0] for i in knn_scores]\n",
        "plt.plot(x_axes,y_axes, color = 'red')\n",
        "    \n",
        "plt.xticks([i for i in range(1, 21)])\n",
        "\n",
        "plt.xlabel('Number of Neighbors (K)')\n",
        "plt.ylabel('Scores')\n",
        "\n",
        "plt.title('K Neighbors Classifier scores for different K values')"
      ]
    },
    {
      "cell_type": "code",
      "execution_count": null,
      "metadata": {
        "id": "yh-XaZLBUruf",
        "outputId": "a9c8e303-69f7-44e3-c33c-b5e886743d90"
      },
      "outputs": [
        {
          "name": "stdout",
          "output_type": "stream",
          "text": [
            "Final score: [0.6666666666666666, 20]\n"
          ]
        }
      ],
      "source": [
        "print(\"Final score:\", knn_scores[-1])"
      ]
    },
    {
      "cell_type": "code",
      "execution_count": null,
      "metadata": {
        "id": "6KW5HyrKUruf",
        "outputId": "fa5beb52-1119-4294-d316-eba0d4f451cc"
      },
      "outputs": [
        {
          "name": "stdout",
          "output_type": "stream",
          "text": [
            "The best score: [0.9166666666666666, 4]\n"
          ]
        }
      ],
      "source": [
        "print(\"The best score:\", max(knn_scores))"
      ]
    },
    {
      "cell_type": "code",
      "execution_count": null,
      "metadata": {
        "id": "dbDLXvX4Uruf",
        "outputId": "99c82cbe-41a8-44fb-8965-b370ffe6d9d4"
      },
      "outputs": [
        {
          "data": {
            "text/plain": [
              "KNeighborsClassifier(algorithm='auto', leaf_size=30, metric='minkowski',\n",
              "                     metric_params=None, n_jobs=None, n_neighbors=8, p=2,\n",
              "                     weights='uniform')"
            ]
          },
          "execution_count": 33,
          "metadata": {},
          "output_type": "execute_result"
        }
      ],
      "source": [
        "knn = KNeighborsClassifier(n_neighbors = 8)\n",
        "knn.fit(x_train, y_train)"
      ]
    },
    {
      "cell_type": "code",
      "execution_count": null,
      "metadata": {
        "id": "2qfMORqCUruf",
        "outputId": "181230bf-40be-43fd-8690-0adef31009b0"
      },
      "outputs": [
        {
          "name": "stdout",
          "output_type": "stream",
          "text": [
            "Training accuracy: 0.7872340425531915\n",
            "Testing accuracy:  0.8333333333333334\n"
          ]
        }
      ],
      "source": [
        "print(\"Training accuracy: {}\".format(knn.score(x_train, y_train)))\n",
        "predicted_knn = knn.predict(x_test)\n",
        "print(\"Testing accuracy:  {}\".format(metrics.accuracy_score(y_test, predicted_knn)))"
      ]
    }
  ],
  "metadata": {
    "kernelspec": {
      "display_name": "Python 3",
      "language": "python",
      "name": "python3"
    },
    "language_info": {
      "codemirror_mode": {
        "name": "ipython",
        "version": 3
      },
      "file_extension": ".py",
      "mimetype": "text/x-python",
      "name": "python",
      "nbconvert_exporter": "python",
      "pygments_lexer": "ipython3",
      "version": "3.7.3"
    },
    "colab": {
      "name": "Main_young_age.ipynb",
      "provenance": []
    }
  },
  "nbformat": 4,
  "nbformat_minor": 0
}